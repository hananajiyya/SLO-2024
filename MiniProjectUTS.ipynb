{
  "nbformat": 4,
  "nbformat_minor": 0,
  "metadata": {
    "colab": {
      "provenance": [],
      "authorship_tag": "ABX9TyOB7R5xcUecEgSQNAOUYnMV",
      "include_colab_link": true
    },
    "kernelspec": {
      "name": "python3",
      "display_name": "Python 3"
    },
    "language_info": {
      "name": "python"
    }
  },
  "cells": [
    {
      "cell_type": "markdown",
      "metadata": {
        "id": "view-in-github",
        "colab_type": "text"
      },
      "source": [
        "<a href=\"https://colab.research.google.com/github/hananajiyya/SLO-2024/blob/main/MiniProjectUTS.ipynb\" target=\"_parent\"><img src=\"https://colab.research.google.com/assets/colab-badge.svg\" alt=\"Open In Colab\"/></a>"
      ]
    },
    {
      "cell_type": "code",
      "execution_count": 3,
      "metadata": {
        "colab": {
          "base_uri": "https://localhost:8080/"
        },
        "id": "h2u7YT8kf59g",
        "outputId": "9a145c33-f4d4-4867-c845-0fe68532b800"
      },
      "outputs": [
        {
          "output_type": "stream",
          "name": "stdout",
          "text": [
            "Mounted at /content/drive\n"
          ]
        }
      ],
      "source": [
        "from google.colab import drive\n",
        "drive.mount('/content/drive')"
      ]
    },
    {
      "cell_type": "code",
      "source": [
        "!pip install scikit-learn"
      ],
      "metadata": {
        "colab": {
          "base_uri": "https://localhost:8080/"
        },
        "id": "Xc_ApRwgkbUk",
        "outputId": "e5c89b94-cd76-481a-f780-190dc47e0fcc"
      },
      "execution_count": 4,
      "outputs": [
        {
          "output_type": "stream",
          "name": "stdout",
          "text": [
            "Requirement already satisfied: scikit-learn in /usr/local/lib/python3.10/dist-packages (1.2.2)\n",
            "Requirement already satisfied: numpy>=1.17.3 in /usr/local/lib/python3.10/dist-packages (from scikit-learn) (1.25.2)\n",
            "Requirement already satisfied: scipy>=1.3.2 in /usr/local/lib/python3.10/dist-packages (from scikit-learn) (1.11.4)\n",
            "Requirement already satisfied: joblib>=1.1.1 in /usr/local/lib/python3.10/dist-packages (from scikit-learn) (1.4.0)\n",
            "Requirement already satisfied: threadpoolctl>=2.0.0 in /usr/local/lib/python3.10/dist-packages (from scikit-learn) (3.4.0)\n"
          ]
        }
      ]
    },
    {
      "cell_type": "code",
      "source": [
        "import matplotlib.pyplot as plt\n",
        "import seaborn as sns\n",
        "import pandas as pd\n",
        "import numpy as np\n",
        "from sklearn import svm\n",
        "from sklearn import metrics\n",
        "from sklearn.svm import SVC\n",
        "from sklearn.metrics import accuracy_score\n",
        "from sklearn.metrics import confusion_matrix\n",
        "from sklearn.metrics import classification_report\n",
        "from sklearn.model_selection import cross_val_score\n",
        "from sklearn.model_selection import train_test_split, KFold\n",
        "from sklearn.neighbors import KNeighborsClassifier\n",
        "from sklearn.metrics import accuracy_score, precision_score, recall_score"
      ],
      "metadata": {
        "id": "GPGABNMBgIhr"
      },
      "execution_count": 5,
      "outputs": []
    },
    {
      "cell_type": "code",
      "source": [
        "# List file Excel di dalam folder tertentu di Google Drive\n",
        "folder_path = '/content/drive/MyDrive/SLO/MINIPROJECTSLO'\n",
        "file_names = ['CPA1.xlsx', 'CPA2.xlsx', 'CPA3.xlsx' ]\n",
        "\n",
        "# Membaca file pertama tanpa menghapus baris pertama\n",
        "first_file_path = f\"{folder_path}/{file_names[0]}\"\n",
        "first_df = pd.read_excel(first_file_path)\n",
        "\n",
        "# Membaca file-file lainnya, menghapus baris pertama, dan memasukkan data ke dalam list\n",
        "dfs = [first_df]\n",
        "for file_name in file_names[1:]:\n",
        "    file_path = f\"{folder_path}/{file_name}\"\n",
        "    df = pd.read_excel(file_path)\n",
        "    df = df.iloc[1:]  # Menghapus baris pertama\n",
        "    dfs.append(df)\n",
        "\n",
        "# Menggabungkan semua DataFrame menjadi satu DataFrame\n",
        "combined_df = pd.concat(dfs, ignore_index=True)\n",
        "\n",
        "combined_csv_file_path = f\"{folder_path}/cpa_combined.csv\"\n",
        "combined_df.to_csv(combined_csv_file_path, index=False)\n",
        "\n",
        "print(\"File berhasil digabungkan dan disimpan:\", combined_csv_file_path)"
      ],
      "metadata": {
        "colab": {
          "base_uri": "https://localhost:8080/"
        },
        "id": "hoIj1fd7hmZn",
        "outputId": "36334c31-4016-4f00-83ed-cdaeba853d19"
      },
      "execution_count": null,
      "outputs": [
        {
          "output_type": "stream",
          "name": "stdout",
          "text": [
            "File berhasil digabungkan dan disimpan: /content/drive/MyDrive/SLO/MINIPROJECTSLO/cpa_combined.csv\n"
          ]
        }
      ]
    },
    {
      "cell_type": "code",
      "source": [
        "# List file Excel di dalam folder tertentu di Google Drive\n",
        "folder_path = '/content/drive/MyDrive/SLO/MINIPROJECTSLO'\n",
        "file_names = ['CPC1.xlsx', 'CPC2.xlsx', 'CPC3.xlsx', 'CPC4.xlsx', 'CPC5.xlsx' ]\n",
        "\n",
        "# Membaca file pertama tanpa menghapus baris pertama\n",
        "first_file_path = f\"{folder_path}/{file_names[0]}\"\n",
        "first_df = pd.read_excel(first_file_path)\n",
        "\n",
        "# Membaca file-file lainnya, menghapus baris pertama, dan memasukkan data ke dalam list\n",
        "dfs = [first_df]\n",
        "for file_name in file_names[1:]:\n",
        "    file_path = f\"{folder_path}/{file_name}\"\n",
        "    df = pd.read_excel(file_path)\n",
        "    df = df.iloc[1:]  # Menghapus baris pertama\n",
        "    dfs.append(df)\n",
        "\n",
        "# Menggabungkan semua DataFrame menjadi satu DataFrame\n",
        "combined_df = pd.concat(dfs, ignore_index=True)\n",
        "\n",
        "combined_csv_file_path = f\"{folder_path}/cpc_combined.csv\"\n",
        "combined_df.to_csv(combined_csv_file_path, index=False)\n",
        "\n",
        "print(\"File berhasil digabungkan dan disimpan:\", combined_csv_file_path)"
      ],
      "metadata": {
        "colab": {
          "base_uri": "https://localhost:8080/"
        },
        "id": "Wji8NZCzmgcn",
        "outputId": "cb0d6395-3275-486f-9c27-363f95f9c7e5"
      },
      "execution_count": null,
      "outputs": [
        {
          "output_type": "stream",
          "name": "stdout",
          "text": [
            "File berhasil digabungkan dan disimpan: /content/drive/MyDrive/SLO/MINIPROJECTSLO/cpc_combined.csv\n"
          ]
        }
      ]
    },
    {
      "cell_type": "markdown",
      "source": [
        "CPC - 10 FOLD"
      ],
      "metadata": {
        "id": "1js92-keW01-"
      }
    },
    {
      "cell_type": "code",
      "source": [
        "import pandas as pd\n",
        "import numpy as np\n",
        "from sklearn.model_selection import KFold\n",
        "from sklearn.svm import SVC\n",
        "from sklearn.neighbors import KNeighborsClassifier\n",
        "from sklearn.metrics import confusion_matrix, recall_score\n",
        "\n",
        "# Baca data dari file CSV\n",
        "df = pd.read_csv(\"/content/drive/MyDrive/SLO/MINIPROJECTSLO/cpc_combined.csv\")\n",
        "\n",
        "# Pisahkan fitur dan kelas\n",
        "X = df.iloc[:, :-1]  # Fitur\n",
        "y = df.iloc[:, -1]   # Kelas\n",
        "\n",
        "# Inisialisasi KFold dengan 10 lipatan\n",
        "kf = KFold(n_splits=10, shuffle=True)\n",
        "\n",
        "# Inisialisasi list untuk menyimpan metrik evaluasi\n",
        "svm_sensitivity_scores = []\n",
        "svm_specificity_scores = []\n",
        "svm_accuracy_scores = []\n",
        "svm_f1_scores = []\n",
        "svm_recall_scores = []\n",
        "\n",
        "knn_sensitivity_scores = []\n",
        "knn_specificity_scores = []\n",
        "knn_accuracy_scores = []\n",
        "knn_f1_scores = []\n",
        "knn_recall_scores = []\n",
        "\n",
        "# Lakukan 10-fold cross-validation\n",
        "for train_index, test_index in kf.split(X):\n",
        "    X_fold_train, X_fold_test = X.iloc[train_index], X.iloc[test_index]\n",
        "    y_fold_train, y_fold_test = y.iloc[train_index], y.iloc[test_index]\n",
        "\n",
        "    # Inisialisasi model SVM\n",
        "    svm_model = SVC(kernel='poly', degree=3)\n",
        "\n",
        "    # Latih model SVM\n",
        "    svm_model.fit(X_fold_train, y_fold_train)\n",
        "\n",
        "    # Prediksi kelas menggunakan data pengujian\n",
        "    svm_y_pred = svm_model.predict(X_fold_test)\n",
        "\n",
        "    # Hitung confusion matrix\n",
        "    cm = confusion_matrix(y_fold_test, svm_y_pred)\n",
        "\n",
        "    # Hitung sensitivity, specificity, dan recall untuk SVM\n",
        "    sensitivity = cm[0, 0] / (cm[0, 0] + cm[0, 1])\n",
        "    specificity = cm[1, 1] / (cm[1, 0] + cm[1, 1])\n",
        "    recall = recall_score(y_fold_test, svm_y_pred, average='macro')\n",
        "\n",
        "    # Hitung metrik evaluasi untuk SVM\n",
        "    accuracy = (cm[0, 0] + cm[1, 1]) / np.sum(cm)\n",
        "    f1 = 2 * (sensitivity * specificity) / (sensitivity + specificity)\n",
        "\n",
        "    # Simpan metrik evaluasi untuk SVM\n",
        "    svm_sensitivity_scores.append(sensitivity)\n",
        "    svm_specificity_scores.append(specificity)\n",
        "    svm_accuracy_scores.append(accuracy)\n",
        "    svm_f1_scores.append(f1)\n",
        "    svm_recall_scores.append(recall)\n",
        "\n",
        "    # Inisialisasi model K-NN\n",
        "    knn_model = KNeighborsClassifier()\n",
        "\n",
        "    # Latih model K-NN\n",
        "    knn_model.fit(X_fold_train, y_fold_train)\n",
        "\n",
        "    # Prediksi kelas menggunakan data pengujian\n",
        "    knn_y_pred = knn_model.predict(X_fold_test)\n",
        "\n",
        "    # Hitung confusion matrix\n",
        "    cm = confusion_matrix(y_fold_test, knn_y_pred)\n",
        "\n",
        "    # Hitung sensitivity, specificity, dan recall untuk K-NN\n",
        "    sensitivity = cm[0, 0] / (cm[0, 0] + cm[0, 1])\n",
        "    specificity = cm[1, 1] / (cm[1, 0] + cm[1, 1])\n",
        "    recall = recall_score(y_fold_test, knn_y_pred, average='macro')\n",
        "\n",
        "    # Hitung metrik evaluasi untuk K-NN\n",
        "    accuracy = (cm[0, 0] + cm[1, 1]) / np.sum(cm)\n",
        "    f1 = 2 * (sensitivity * specificity) / (sensitivity + specificity)\n",
        "\n",
        "    # Simpan metrik evaluasi untuk K-NN\n",
        "    knn_sensitivity_scores.append(sensitivity)\n",
        "    knn_specificity_scores.append(specificity)\n",
        "    knn_accuracy_scores.append(accuracy)\n",
        "    knn_f1_scores.append(f1)\n",
        "    knn_recall_scores.append(recall)\n",
        "\n",
        "# Hitung rata-rata metrik evaluasi untuk SVM\n",
        "avg_svm_sensitivity = np.mean(svm_sensitivity_scores)\n",
        "avg_svm_specificity = np.mean(svm_specificity_scores)\n",
        "avg_svm_accuracy = np.mean(svm_accuracy_scores)\n",
        "avg_svm_f1 = np.mean(svm_f1_scores)\n",
        "avg_svm_recall = np.mean(svm_recall_scores)\n",
        "\n",
        "# Hitung rata-rata metrik evaluasi untuk K-NN\n",
        "avg_knn_sensitivity = np.mean(knn_sensitivity_scores)\n",
        "avg_knn_specificity = np.mean(knn_specificity_scores)\n",
        "avg_knn_accuracy = np.mean(knn_accuracy_scores)\n",
        "avg_knn_f1 = np.mean(knn_f1_scores)\n",
        "avg_knn_recall = np.mean(knn_recall_scores)\n",
        "\n",
        "# Tampilkan hasil\n",
        "print(\"SVM Metrics:\")\n",
        "print(\"Sensitivity:\", avg_svm_sensitivity)\n",
        "print(\"Specificity:\", avg_svm_specificity)\n",
        "print(\"Accuracy:\", avg_svm_accuracy)\n",
        "print(\"F1-Score:\", avg_svm_f1)\n",
        "print(\"Recall:\", avg_svm_recall)\n",
        "\n",
        "print(\"\\nKNN Metrics:\")\n",
        "print(\"Sensitivity:\", avg_knn_sensitivity)\n",
        "print(\"Specificity:\", avg_knn_specificity)\n",
        "print(\"Accuracy:\", avg_knn_accuracy)\n",
        "print(\"F1-Score:\", avg_knn_f1)\n",
        "print(\"Recall:\", avg_knn_recall)\n"
      ],
      "metadata": {
        "colab": {
          "base_uri": "https://localhost:8080/"
        },
        "id": "m8OW5yju7jee",
        "outputId": "bc97c431-148e-49c5-dec9-62ed45d459dd"
      },
      "execution_count": 11,
      "outputs": [
        {
          "output_type": "stream",
          "name": "stderr",
          "text": [
            "<ipython-input-11-ff6c4c01baf3>:50: RuntimeWarning: invalid value encountered in scalar divide\n",
            "  specificity = cm[1, 1] / (cm[1, 0] + cm[1, 1])\n"
          ]
        },
        {
          "output_type": "stream",
          "name": "stdout",
          "text": [
            "SVM Metrics:\n",
            "Sensitivity: 1.0\n",
            "Specificity: nan\n",
            "Accuracy: 0.031246084232509574\n",
            "F1-Score: nan\n",
            "Recall: 0.36501285690521346\n",
            "\n",
            "KNN Metrics:\n",
            "Sensitivity: 0.7692729379656374\n",
            "Specificity: 0.6056273920438007\n",
            "Accuracy: 0.19518273581621998\n",
            "F1-Score: 0.6658619522092524\n",
            "Recall: 0.6246578943797425\n"
          ]
        }
      ]
    },
    {
      "cell_type": "markdown",
      "source": [
        "CPC-75% Training 25%"
      ],
      "metadata": {
        "id": "tcz1aCu4Ymsr"
      }
    },
    {
      "cell_type": "code",
      "source": [
        "import pandas as pd\n",
        "from sklearn.model_selection import train_test_split\n",
        "from sklearn.svm import SVC\n",
        "from sklearn.neighbors import KNeighborsClassifier\n",
        "from sklearn.metrics import accuracy_score, precision_score, recall_score, f1_score, confusion_matrix\n",
        "\n",
        "# 1. Baca data dari file CSV\n",
        "df = pd.read_csv(\"/content/drive/MyDrive/SLO/MINIPROJECTSLO/cpc_combined.csv\")\n",
        "\n",
        "# 2. Bagi data menjadi subset training (75%) dan testing (25%)\n",
        "X = df.iloc[:, :-1]  # Fitur\n",
        "y = df.iloc[:, -1]   # Kelas\n",
        "X_train, X_test, y_train, y_test = train_test_split(X, y, test_size=0.25, random_state=42)\n",
        "\n",
        "# 3. Inisialisasi model SVM dan KNN\n",
        "svm_model = SVC(kernel='poly', degree=8)\n",
        "knn_model = KNeighborsClassifier()\n",
        "\n",
        "# 4. Latih model SVM dan KNN menggunakan subset training\n",
        "svm_model.fit(X_train, y_train)\n",
        "knn_model.fit(X_train, y_train)\n",
        "\n",
        "# 5. Prediksi kelas untuk subset testing\n",
        "svm_test_pred = svm_model.predict(X_test)\n",
        "knn_test_pred = knn_model.predict(X_test)\n",
        "\n",
        "# 6. Hitung metrik evaluasi\n",
        "svm_accuracy = accuracy_score(y_test, svm_test_pred)\n",
        "svm_precision = precision_score(y_test, svm_test_pred, average='weighted')\n",
        "svm_recall = recall_score(y_test, svm_test_pred, average='weighted')\n",
        "svm_f1 = f1_score(y_test, svm_test_pred, average='weighted')\n",
        "\n",
        "knn_accuracy = accuracy_score(y_test, knn_test_pred)\n",
        "knn_precision = precision_score(y_test, knn_test_pred, average='weighted')\n",
        "knn_recall = recall_score(y_test, knn_test_pred, average='weighted')\n",
        "knn_f1 = f1_score(y_test, knn_test_pred, average='weighted')\n",
        "\n",
        "# 7. Hitung confusion matrix untuk SVM dan KNN\n",
        "svm_cm = confusion_matrix(y_test, svm_test_pred)\n",
        "knn_cm = confusion_matrix(y_test, knn_test_pred)\n",
        "\n",
        "# 8. Hitung sensitivity dan specificity untuk SVM dan KNN\n",
        "svm_tp = svm_cm[0, 0]\n",
        "svm_fn = svm_cm[0, 1]\n",
        "svm_fp = svm_cm[1, 0]\n",
        "svm_tn = svm_cm[1, 1]\n",
        "\n",
        "svm_sensitivity = svm_tp / (svm_tp + svm_fn)\n",
        "svm_specificity = svm_tn / (svm_tn + svm_fp)\n",
        "\n",
        "knn_tp = knn_cm[0, 0]\n",
        "knn_fn = knn_cm[0, 1]\n",
        "knn_fp = knn_cm[1, 0]\n",
        "knn_tn = knn_cm[1, 1]\n",
        "\n",
        "knn_sensitivity = knn_tp / (knn_tp + knn_fn)\n",
        "knn_specificity = knn_tn / (knn_tn + knn_fp)\n",
        "\n",
        "# 9. Tampilkan hasil\n",
        "print(\"SVM Metrics:\")\n",
        "print(\"Accuracy:\", svm_accuracy)\n",
        "print(\"Precision:\", svm_precision)\n",
        "print(\"Recall:\", svm_recall)\n",
        "print(\"F1-Score:\", svm_f1)\n",
        "print(\"Sensitivity:\", svm_sensitivity)\n",
        "print(\"Specificity:\", svm_specificity)\n",
        "\n",
        "print(\"\\nKNN Metrics:\")\n",
        "print(\"Accuracy:\", knn_accuracy)\n",
        "print(\"Precision:\", knn_precision)\n",
        "print(\"Recall:\", knn_recall)\n",
        "print(\"F1-Score:\", knn_f1)\n",
        "print(\"Sensitivity:\", knn_sensitivity)\n",
        "print(\"Specificity:\", knn_specificity)\n"
      ],
      "metadata": {
        "colab": {
          "base_uri": "https://localhost:8080/"
        },
        "id": "H_x_3OqlY6qt",
        "outputId": "0128be66-e69b-4571-f1f0-ac17c513f4cb"
      },
      "execution_count": 39,
      "outputs": [
        {
          "output_type": "stream",
          "name": "stdout",
          "text": [
            "SVM Metrics:\n",
            "Accuracy: 0.5212264150943396\n",
            "Precision: 0.42180219251035783\n",
            "Recall: 0.5212264150943396\n",
            "F1-Score: 0.45126442598505434\n",
            "Sensitivity: 0.875\n",
            "Specificity: 0.1111111111111111\n",
            "\n",
            "KNN Metrics:\n",
            "Accuracy: 0.625\n",
            "Precision: 0.618618485549667\n",
            "Recall: 0.625\n",
            "F1-Score: 0.618584902281209\n",
            "Sensitivity: 0.7142857142857143\n",
            "Specificity: 0.5348837209302325\n"
          ]
        },
        {
          "output_type": "stream",
          "name": "stderr",
          "text": [
            "/usr/local/lib/python3.10/dist-packages/sklearn/metrics/_classification.py:1344: UndefinedMetricWarning: Precision is ill-defined and being set to 0.0 in labels with no predicted samples. Use `zero_division` parameter to control this behavior.\n",
            "  _warn_prf(average, modifier, msg_start, len(result))\n"
          ]
        }
      ]
    },
    {
      "cell_type": "code",
      "source": [
        "# 1. Baca data dari file CSV\n",
        "df = pd.read_csv(\"/content/drive/MyDrive/SLO/MINIPROJECTSLO/cpc_combined.csv\")\n",
        "\n",
        "# 2. Bagi data menjadi subset training (50%) dan non-training (50%)\n",
        "X_trainval, X_test, y_trainval, y_test = train_test_split(X, y, test_size=0.25, random_state=42)\n",
        "\n",
        "# 3. Bagi kembali non-training data menjadi subset validation (50%) dan testing (50%)\n",
        "X_train, X_val, y_train, y_val = train_test_split(X_trainval, y_trainval, test_size=0.5, random_state=42)\n",
        "\n",
        "# 4. Inisialisasi model SVM dan KNN\n",
        "svm_model = SVC(kernel='poly', degree=8)\n",
        "knn_model = KNeighborsClassifier()\n",
        "\n",
        "# 5. Latih model SVM dan KNN menggunakan subset training\n",
        "svm_model.fit(X_train, y_train)\n",
        "knn_model.fit(X_train, y_train)\n",
        "\n",
        "# 6. Prediksi kelas untuk subset testing\n",
        "svm_test_pred = svm_model.predict(X_test)\n",
        "knn_test_pred = knn_model.predict(X_test)\n",
        "\n",
        "# 7. Hitung metrik evaluasi\n",
        "svm_accuracy = accuracy_score(y_test, svm_test_pred)\n",
        "svm_precision = precision_score(y_test, svm_test_pred, average='weighted')\n",
        "svm_recall = recall_score(y_test, svm_test_pred, average='weighted')\n",
        "svm_f1 = f1_score(y_test, svm_test_pred, average='weighted')\n",
        "\n",
        "knn_accuracy = accuracy_score(y_test, knn_test_pred)\n",
        "knn_precision = precision_score(y_test, knn_test_pred, average='weighted')\n",
        "knn_recall = recall_score(y_test, knn_test_pred, average='weighted')\n",
        "knn_f1 = f1_score(y_test, knn_test_pred, average='weighted')\n",
        "\n",
        "# 8. Hitung confusion matrix untuk SVM dan KNN\n",
        "svm_cm = confusion_matrix(y_test, svm_test_pred)\n",
        "knn_cm = confusion_matrix(y_test, knn_test_pred)\n",
        "\n",
        "# 9. Hitung sensitivity dan specificity untuk SVM dan KNN\n",
        "svm_tp = svm_cm[0, 0]\n",
        "svm_fn = svm_cm[0, 1]\n",
        "svm_fp = svm_cm[1, 0]\n",
        "svm_tn = svm_cm[1, 1]\n",
        "\n",
        "svm_sensitivity = svm_tp / (svm_tp + svm_fn)\n",
        "svm_specificity = svm_tn / (svm_tn + svm_fp)\n",
        "\n",
        "knn_tp = knn_cm[0, 0]\n",
        "knn_fn = knn_cm[0, 1]\n",
        "knn_fp = knn_cm[1, 0]\n",
        "knn_tn = knn_cm[1, 1]\n",
        "\n",
        "knn_sensitivity = knn_tp / (knn_tp + knn_fn)\n",
        "knn_specificity = knn_tn / (knn_tn + knn_fp)\n",
        "\n",
        "# 10. Tampilkan hasil\n",
        "print(\"SVM Metrics:\")\n",
        "print(\"Accuracy:\", svm_accuracy)\n",
        "print(\"Precision:\", svm_precision)\n",
        "print(\"Recall:\", svm_recall)\n",
        "print(\"F1-Score:\", svm_f1)\n",
        "print(\"Sensitivity:\", svm_sensitivity)\n",
        "print(\"Specificity:\", svm_specificity)\n",
        "\n",
        "print(\"\\nKNN Metrics:\")\n",
        "print(\"Accuracy:\", knn_accuracy)\n",
        "print(\"Precision:\", knn_precision)\n",
        "print(\"Recall:\", knn_recall)\n",
        "print(\"F1-Score:\", knn_f1)\n",
        "print(\"Sensitivity:\", knn_sensitivity)\n",
        "print(\"Specificity:\", knn_specificity)\n"
      ],
      "metadata": {
        "colab": {
          "base_uri": "https://localhost:8080/"
        },
        "id": "4w3ulC1hZVpT",
        "outputId": "7db2dcd7-4177-4150-8611-5196cec95058"
      },
      "execution_count": 38,
      "outputs": [
        {
          "output_type": "stream",
          "name": "stdout",
          "text": [
            "SVM Metrics:\n",
            "Accuracy: 0.5212264150943396\n",
            "Precision: 0.42456187680244284\n",
            "Recall: 0.5212264150943396\n",
            "F1-Score: 0.4517915481540989\n",
            "Sensitivity: 0.8571428571428571\n",
            "Specificity: 0.1\n",
            "\n",
            "KNN Metrics:\n",
            "Accuracy: 0.5070754716981132\n",
            "Precision: 0.5216645668721266\n",
            "Recall: 0.5070754716981132\n",
            "F1-Score: 0.5022978446459407\n",
            "Sensitivity: 0.7142857142857143\n",
            "Specificity: 0.35555555555555557\n"
          ]
        },
        {
          "output_type": "stream",
          "name": "stderr",
          "text": [
            "/usr/local/lib/python3.10/dist-packages/sklearn/metrics/_classification.py:1344: UndefinedMetricWarning: Precision is ill-defined and being set to 0.0 in labels with no predicted samples. Use `zero_division` parameter to control this behavior.\n",
            "  _warn_prf(average, modifier, msg_start, len(result))\n"
          ]
        }
      ]
    },
    {
      "cell_type": "markdown",
      "source": [
        "CPA - 10 Fold"
      ],
      "metadata": {
        "id": "t75RG_PTeh5D"
      }
    },
    {
      "cell_type": "code",
      "source": [
        "import pandas as pd\n",
        "import numpy as np\n",
        "from sklearn.model_selection import KFold\n",
        "from sklearn.svm import SVC\n",
        "from sklearn.neighbors import KNeighborsClassifier\n",
        "from sklearn.metrics import confusion_matrix, recall_score\n",
        "\n",
        "# Baca data dari file CSV\n",
        "df = pd.read_csv(\"/content/drive/MyDrive/SLO/MINIPROJECTSLO/cpa_combined.csv\")\n",
        "\n",
        "# Pisahkan fitur dan kelas\n",
        "X = df.iloc[:, :-1]  # Fitur\n",
        "y = df.iloc[:, -1]   # Kelas\n",
        "\n",
        "# Inisialisasi KFold dengan 10 lipatan\n",
        "kf = KFold(n_splits=10, shuffle=True)\n",
        "\n",
        "# Inisialisasi list untuk menyimpan metrik evaluasi\n",
        "svm_sensitivity_scores = []\n",
        "svm_specificity_scores = []\n",
        "svm_accuracy_scores = []\n",
        "svm_f1_scores = []\n",
        "svm_recall_scores = []\n",
        "\n",
        "knn_sensitivity_scores = []\n",
        "knn_specificity_scores = []\n",
        "knn_accuracy_scores = []\n",
        "knn_f1_scores = []\n",
        "knn_recall_scores = []\n",
        "\n",
        "# Lakukan 10-fold cross-validation\n",
        "for train_index, test_index in kf.split(X):\n",
        "    X_fold_train, X_fold_test = X.iloc[train_index], X.iloc[test_index]\n",
        "    y_fold_train, y_fold_test = y.iloc[train_index], y.iloc[test_index]\n",
        "\n",
        "    # Inisialisasi model SVM\n",
        "    svm_model = SVC(kernel='poly', degree=3)\n",
        "\n",
        "    # Latih model SVM\n",
        "    svm_model.fit(X_fold_train, y_fold_train)\n",
        "\n",
        "    # Prediksi kelas menggunakan data pengujian\n",
        "    svm_y_pred = svm_model.predict(X_fold_test)\n",
        "\n",
        "    # Hitung confusion matrix\n",
        "    cm = confusion_matrix(y_fold_test, svm_y_pred)\n",
        "\n",
        "    # Hitung sensitivity, specificity, dan recall untuk SVM\n",
        "    sensitivity = cm[0, 0] / (cm[0, 0] + cm[0, 1])\n",
        "    specificity = cm[1, 1] / (cm[1, 0] + cm[1, 1])\n",
        "    recall = recall_score(y_fold_test, svm_y_pred, average='macro')\n",
        "\n",
        "    # Hitung metrik evaluasi untuk SVM\n",
        "    accuracy = (cm[0, 0] + cm[1, 1]) / np.sum(cm)\n",
        "    f1 = 2 * (sensitivity * specificity) / (sensitivity + specificity)\n",
        "\n",
        "    # Simpan metrik evaluasi untuk SVM\n",
        "    svm_sensitivity_scores.append(sensitivity)\n",
        "    svm_specificity_scores.append(specificity)\n",
        "    svm_accuracy_scores.append(accuracy)\n",
        "    svm_f1_scores.append(f1)\n",
        "    svm_recall_scores.append(recall)\n",
        "\n",
        "    # Inisialisasi model K-NN\n",
        "    knn_model = KNeighborsClassifier()\n",
        "\n",
        "    # Latih model K-NN\n",
        "    knn_model.fit(X_fold_train, y_fold_train)\n",
        "\n",
        "    # Prediksi kelas menggunakan data pengujian\n",
        "    knn_y_pred = knn_model.predict(X_fold_test)\n",
        "\n",
        "    # Hitung confusion matrix\n",
        "    cm = confusion_matrix(y_fold_test, knn_y_pred)\n",
        "\n",
        "    # Hitung sensitivity, specificity, dan recall untuk K-NN\n",
        "    sensitivity = cm[0, 0] / (cm[0, 0] + cm[0, 1])\n",
        "    specificity = cm[1, 1] / (cm[1, 0] + cm[1, 1])\n",
        "    recall = recall_score(y_fold_test, knn_y_pred, average='macro')\n",
        "\n",
        "    # Hitung metrik evaluasi untuk K-NN\n",
        "    accuracy = (cm[0, 0] + cm[1, 1]) / np.sum(cm)\n",
        "    f1 = 2 * (sensitivity * specificity) / (sensitivity + specificity)\n",
        "\n",
        "    # Simpan metrik evaluasi untuk K-NN\n",
        "    knn_sensitivity_scores.append(sensitivity)\n",
        "    knn_specificity_scores.append(specificity)\n",
        "    knn_accuracy_scores.append(accuracy)\n",
        "    knn_f1_scores.append(f1)\n",
        "    knn_recall_scores.append(recall)\n",
        "\n",
        "# Hitung rata-rata metrik evaluasi untuk SVM\n",
        "avg_svm_sensitivity = np.mean(svm_sensitivity_scores)\n",
        "avg_svm_specificity = np.mean(svm_specificity_scores)\n",
        "avg_svm_accuracy = np.mean(svm_accuracy_scores)\n",
        "avg_svm_f1 = np.mean(svm_f1_scores)\n",
        "avg_svm_recall = np.mean(svm_recall_scores)\n",
        "\n",
        "# Hitung rata-rata metrik evaluasi untuk K-NN\n",
        "avg_knn_sensitivity = np.mean(knn_sensitivity_scores)\n",
        "avg_knn_specificity = np.mean(knn_specificity_scores)\n",
        "avg_knn_accuracy = np.mean(knn_accuracy_scores)\n",
        "avg_knn_f1 = np.mean(knn_f1_scores)\n",
        "avg_knn_recall = np.mean(knn_recall_scores)\n",
        "\n",
        "# Tampilkan hasil\n",
        "print(\"SVM Metrics:\")\n",
        "print(\"Sensitivity:\", avg_svm_sensitivity)\n",
        "print(\"Specificity:\", avg_svm_specificity)\n",
        "print(\"Accuracy:\", avg_svm_accuracy)\n",
        "print(\"F1-Score:\", avg_svm_f1)\n",
        "print(\"Recall:\", avg_svm_recall)\n",
        "\n",
        "print(\"\\nKNN Metrics:\")\n",
        "print(\"Sensitivity:\", avg_knn_sensitivity)\n",
        "print(\"Specificity:\", avg_knn_specificity)\n",
        "print(\"Accuracy:\", avg_knn_accuracy)\n",
        "print(\"F1-Score:\", avg_knn_f1)\n",
        "print(\"Recall:\", avg_knn_recall)\n"
      ],
      "metadata": {
        "colab": {
          "base_uri": "https://localhost:8080/"
        },
        "id": "JC4mPr5JesSG",
        "outputId": "8b420bf1-2ff0-489c-abdd-dc13702c49dc"
      },
      "execution_count": 8,
      "outputs": [
        {
          "output_type": "stream",
          "name": "stdout",
          "text": [
            "SVM Metrics:\n",
            "Sensitivity: 1.0\n",
            "Specificity: 0.0\n",
            "Accuracy: 0.1605383022774327\n",
            "F1-Score: 0.0\n",
            "Recall: 0.39178088480319717\n",
            "\n",
            "KNN Metrics:\n",
            "Sensitivity: 0.8110544206196378\n",
            "Specificity: 0.03159090909090909\n",
            "Accuracy: 0.2937888198757764\n",
            "F1-Score: 0.05557986593049578\n",
            "Recall: 0.4783104071068912\n"
          ]
        }
      ]
    },
    {
      "cell_type": "code",
      "source": [
        "import pandas as pd\n",
        "from sklearn.model_selection import train_test_split\n",
        "from sklearn.svm import SVC\n",
        "from sklearn.neighbors import KNeighborsClassifier\n",
        "from sklearn.metrics import accuracy_score, precision_score, recall_score, f1_score, confusion_matrix\n",
        "\n",
        "# 1. Baca data dari file CSV\n",
        "df = pd.read_csv(\"/content/drive/MyDrive/SLO/MINIPROJECTSLO/cpa_combined.csv\")\n",
        "\n",
        "# 2. Bagi data menjadi subset training (75%) dan testing (25%)\n",
        "X = df.iloc[:, :-1]  # Fitur\n",
        "y = df.iloc[:, -1]   # Kelas\n",
        "X_train, X_test, y_train, y_test = train_test_split(X, y, test_size=0.25, random_state=42)\n",
        "\n",
        "# 3. Inisialisasi model SVM dan KNN\n",
        "svm_model = SVC(kernel='poly', degree=3)\n",
        "knn_model = KNeighborsClassifier()\n",
        "\n",
        "# 4. Latih model SVM dan KNN menggunakan subset training\n",
        "svm_model.fit(X_train, y_train)\n",
        "knn_model.fit(X_train, y_train)\n",
        "\n",
        "# 5. Prediksi kelas untuk subset testing\n",
        "svm_test_pred = svm_model.predict(X_test)\n",
        "knn_test_pred = knn_model.predict(X_test)\n",
        "\n",
        "# 6. Hitung metrik evaluasi\n",
        "svm_accuracy = accuracy_score(y_test, svm_test_pred)\n",
        "svm_precision = precision_score(y_test, svm_test_pred, average='weighted')\n",
        "svm_recall = recall_score(y_test, svm_test_pred, average='weighted')\n",
        "svm_f1 = f1_score(y_test, svm_test_pred, average='weighted')\n",
        "\n",
        "knn_accuracy = accuracy_score(y_test, knn_test_pred)\n",
        "knn_precision = precision_score(y_test, knn_test_pred, average='weighted')\n",
        "knn_recall = recall_score(y_test, knn_test_pred, average='weighted')\n",
        "knn_f1 = f1_score(y_test, knn_test_pred, average='weighted')\n",
        "\n",
        "# 7. Hitung confusion matrix untuk SVM dan KNN\n",
        "svm_cm = confusion_matrix(y_test, svm_test_pred)\n",
        "knn_cm = confusion_matrix(y_test, knn_test_pred)\n",
        "\n",
        "# 8. Hitung sensitivity dan specificity untuk SVM dan KNN\n",
        "svm_tp = svm_cm[0, 0]\n",
        "svm_fn = svm_cm[0, 1]\n",
        "svm_fp = svm_cm[1, 0]\n",
        "svm_tn = svm_cm[1, 1]\n",
        "\n",
        "svm_sensitivity = svm_tp / (svm_tp + svm_fn)\n",
        "svm_specificity = svm_tn / (svm_tn + svm_fp)\n",
        "\n",
        "knn_tp = knn_cm[0, 0]\n",
        "knn_fn = knn_cm[0, 1]\n",
        "knn_fp = knn_cm[1, 0]\n",
        "knn_tn = knn_cm[1, 1]\n",
        "\n",
        "knn_sensitivity = knn_tp / (knn_tp + knn_fn)\n",
        "knn_specificity = knn_tn / (knn_tn + knn_fp)\n",
        "\n",
        "# 9. Tampilkan hasil\n",
        "print(\"SVM Metrics:\")\n",
        "print(\"Accuracy:\", svm_accuracy)\n",
        "print(\"Precision:\", svm_precision)\n",
        "print(\"Recall:\", svm_recall)\n",
        "print(\"F1-Score:\", svm_f1)\n",
        "print(\"Sensitivity:\", svm_sensitivity)\n",
        "print(\"Specificity:\", svm_specificity)\n",
        "\n",
        "print(\"\\nKNN Metrics:\")\n",
        "print(\"Accuracy:\", knn_accuracy)\n",
        "print(\"Precision:\", knn_precision)\n",
        "print(\"Recall:\", knn_recall)\n",
        "print(\"F1-Score:\", knn_f1)\n",
        "print(\"Sensitivity:\", knn_sensitivity)\n",
        "print(\"Specificity:\", knn_specificity)\n"
      ],
      "metadata": {
        "colab": {
          "base_uri": "https://localhost:8080/"
        },
        "id": "8-sGnhUletlC",
        "outputId": "6d49e0ce-c8bd-4edd-f704-16d51c04afcd"
      },
      "execution_count": 5,
      "outputs": [
        {
          "output_type": "stream",
          "name": "stdout",
          "text": [
            "SVM Metrics:\n",
            "Accuracy: 0.5028571428571429\n",
            "Precision: 0.40535893225548403\n",
            "Recall: 0.5028571428571429\n",
            "F1-Score: 0.44182763848396495\n",
            "Sensitivity: 1.0\n",
            "Specificity: 0.0\n",
            "\n",
            "KNN Metrics:\n",
            "Accuracy: 0.68\n",
            "Precision: 0.646014898014898\n",
            "Recall: 0.68\n",
            "F1-Score: 0.6527266974730445\n",
            "Sensitivity: 0.8833333333333333\n",
            "Specificity: 0.07692307692307693\n"
          ]
        },
        {
          "output_type": "stream",
          "name": "stderr",
          "text": [
            "/usr/local/lib/python3.10/dist-packages/sklearn/metrics/_classification.py:1344: UndefinedMetricWarning: Precision is ill-defined and being set to 0.0 in labels with no predicted samples. Use `zero_division` parameter to control this behavior.\n",
            "  _warn_prf(average, modifier, msg_start, len(result))\n"
          ]
        }
      ]
    },
    {
      "cell_type": "code",
      "source": [
        "# 1. Baca data dari file CSV\n",
        "df = pd.read_csv(\"/content/drive/MyDrive/SLO/MINIPROJECTSLO/cpa_combined.csv\")\n",
        "\n",
        "# 2. Bagi data menjadi subset training (50%) dan non-training (50%)\n",
        "X_trainval, X_test, y_trainval, y_test = train_test_split(X, y, test_size=0.25, random_state=42)\n",
        "\n",
        "# 3. Bagi kembali non-training data menjadi subset validation (50%) dan testing (50%)\n",
        "X_train, X_val, y_train, y_val = train_test_split(X_trainval, y_trainval, test_size=0.5, random_state=42)\n",
        "\n",
        "# 4. Inisialisasi model SVM dan KNN\n",
        "svm_model = SVC(kernel='poly', degree=8)\n",
        "knn_model = KNeighborsClassifier()\n",
        "\n",
        "# 5. Latih model SVM dan KNN menggunakan subset training\n",
        "svm_model.fit(X_train, y_train)\n",
        "knn_model.fit(X_train, y_train)\n",
        "\n",
        "# 6. Prediksi kelas untuk subset testing\n",
        "svm_test_pred = svm_model.predict(X_test)\n",
        "knn_test_pred = knn_model.predict(X_test)\n",
        "\n",
        "# 7. Hitung metrik evaluasi\n",
        "svm_accuracy = accuracy_score(y_test, svm_test_pred)\n",
        "svm_precision = precision_score(y_test, svm_test_pred, average='weighted')\n",
        "svm_recall = recall_score(y_test, svm_test_pred, average='weighted')\n",
        "svm_f1 = f1_score(y_test, svm_test_pred, average='weighted')\n",
        "\n",
        "knn_accuracy = accuracy_score(y_test, knn_test_pred)\n",
        "knn_precision = precision_score(y_test, knn_test_pred, average='weighted')\n",
        "knn_recall = recall_score(y_test, knn_test_pred, average='weighted')\n",
        "knn_f1 = f1_score(y_test, knn_test_pred, average='weighted')\n",
        "\n",
        "# 8. Hitung confusion matrix untuk SVM dan KNN\n",
        "svm_cm = confusion_matrix(y_test, svm_test_pred)\n",
        "knn_cm = confusion_matrix(y_test, knn_test_pred)\n",
        "\n",
        "# 9. Hitung sensitivity dan specificity untuk SVM dan KNN\n",
        "svm_tp = svm_cm[0, 0]\n",
        "svm_fn = svm_cm[0, 1]\n",
        "svm_fp = svm_cm[1, 0]\n",
        "svm_tn = svm_cm[1, 1]\n",
        "\n",
        "svm_sensitivity = svm_tp / (svm_tp + svm_fn)\n",
        "svm_specificity = svm_tn / (svm_tn + svm_fp)\n",
        "\n",
        "knn_tp = knn_cm[0, 0]\n",
        "knn_fn = knn_cm[0, 1]\n",
        "knn_fp = knn_cm[1, 0]\n",
        "knn_tn = knn_cm[1, 1]\n",
        "\n",
        "knn_sensitivity = knn_tp / (knn_tp + knn_fn)\n",
        "knn_specificity = knn_tn / (knn_tn + knn_fp)\n",
        "\n",
        "# 10. Tampilkan hasil\n",
        "print(\"SVM Metrics:\")\n",
        "print(\"Accuracy:\", svm_accuracy)\n",
        "print(\"Precision:\", svm_precision)\n",
        "print(\"Recall:\", svm_recall)\n",
        "print(\"F1-Score:\", svm_f1)\n",
        "print(\"Sensitivity:\", svm_sensitivity)\n",
        "print(\"Specificity:\", svm_specificity)\n",
        "\n",
        "print(\"\\nKNN Metrics:\")\n",
        "print(\"Accuracy:\", knn_accuracy)\n",
        "print(\"Precision:\", knn_precision)\n",
        "print(\"Recall:\", knn_recall)\n",
        "print(\"F1-Score:\", knn_f1)\n",
        "print(\"Sensitivity:\", knn_sensitivity)\n",
        "print(\"Specificity:\", knn_specificity)\n"
      ],
      "metadata": {
        "colab": {
          "base_uri": "https://localhost:8080/"
        },
        "id": "Ofpo_Kgbe3_3",
        "outputId": "ba4f3c90-3bc0-429b-e801-1b42a0de80be"
      },
      "execution_count": 6,
      "outputs": [
        {
          "output_type": "stream",
          "name": "stdout",
          "text": [
            "SVM Metrics:\n",
            "Accuracy: 0.56\n",
            "Precision: 0.46449862235952244\n",
            "Recall: 0.56\n",
            "F1-Score: 0.5000495377638234\n",
            "Sensitivity: 1.0\n",
            "Specificity: 0.0\n",
            "\n",
            "KNN Metrics:\n",
            "Accuracy: 0.6285714285714286\n",
            "Precision: 0.5825286771326782\n",
            "Recall: 0.6285714285714286\n",
            "F1-Score: 0.5870246109997663\n",
            "Sensitivity: 0.98\n",
            "Specificity: 0.041666666666666664\n"
          ]
        },
        {
          "output_type": "stream",
          "name": "stderr",
          "text": [
            "/usr/local/lib/python3.10/dist-packages/sklearn/metrics/_classification.py:1344: UndefinedMetricWarning: Precision is ill-defined and being set to 0.0 in labels with no predicted samples. Use `zero_division` parameter to control this behavior.\n",
            "  _warn_prf(average, modifier, msg_start, len(result))\n"
          ]
        }
      ]
    },
    {
      "cell_type": "code",
      "source": [],
      "metadata": {
        "id": "gptHvPLafQWs"
      },
      "execution_count": null,
      "outputs": []
    }
  ]
}