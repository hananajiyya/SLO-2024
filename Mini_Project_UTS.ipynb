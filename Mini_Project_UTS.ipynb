{
  "nbformat": 4,
  "nbformat_minor": 0,
  "metadata": {
    "colab": {
      "provenance": [],
      "authorship_tag": "ABX9TyPPlaZK1RLPMGdLAuDG88ML"
    },
    "kernelspec": {
      "name": "python3",
      "display_name": "Python 3"
    },
    "language_info": {
      "name": "python"
    }
  },
  "cells": [
    {
      "cell_type": "code",
      "execution_count": 1,
      "metadata": {
        "colab": {
          "base_uri": "https://localhost:8080/"
        },
        "id": "h2u7YT8kf59g",
        "outputId": "7381e4ea-3bd6-4007-c5bc-18f8f87834ee"
      },
      "outputs": [
        {
          "output_type": "stream",
          "name": "stdout",
          "text": [
            "Mounted at /content/drive\n"
          ]
        }
      ],
      "source": [
        "from google.colab import drive\n",
        "drive.mount('/content/drive')"
      ]
    },
    {
      "cell_type": "code",
      "source": [
        "!pip install scikit-learn"
      ],
      "metadata": {
        "colab": {
          "base_uri": "https://localhost:8080/"
        },
        "id": "Xc_ApRwgkbUk",
        "outputId": "855a2b3f-b6aa-45ec-e682-e3d4879d0ff9"
      },
      "execution_count": 2,
      "outputs": [
        {
          "output_type": "stream",
          "name": "stdout",
          "text": [
            "Requirement already satisfied: scikit-learn in /usr/local/lib/python3.10/dist-packages (1.2.2)\n",
            "Requirement already satisfied: numpy>=1.17.3 in /usr/local/lib/python3.10/dist-packages (from scikit-learn) (1.25.2)\n",
            "Requirement already satisfied: scipy>=1.3.2 in /usr/local/lib/python3.10/dist-packages (from scikit-learn) (1.11.4)\n",
            "Requirement already satisfied: joblib>=1.1.1 in /usr/local/lib/python3.10/dist-packages (from scikit-learn) (1.4.0)\n",
            "Requirement already satisfied: threadpoolctl>=2.0.0 in /usr/local/lib/python3.10/dist-packages (from scikit-learn) (3.4.0)\n"
          ]
        }
      ]
    },
    {
      "cell_type": "code",
      "source": [
        "import matplotlib.pyplot as plt\n",
        "import seaborn as sns\n",
        "import pandas as pd\n",
        "import numpy as np\n",
        "from sklearn import svm\n",
        "from sklearn import metrics\n",
        "from sklearn.svm import SVC\n",
        "from sklearn.metrics import accuracy_score\n",
        "from sklearn.metrics import confusion_matrix\n",
        "from sklearn.metrics import classification_report\n",
        "from sklearn.model_selection import cross_val_score\n",
        "from sklearn.model_selection import train_test_split, KFold\n",
        "from sklearn.neighbors import KNeighborsClassifier\n",
        "from sklearn.metrics import accuracy_score, precision_score, recall_score"
      ],
      "metadata": {
        "id": "GPGABNMBgIhr"
      },
      "execution_count": 3,
      "outputs": []
    },
    {
      "cell_type": "code",
      "source": [
        "# List file Excel di dalam folder tertentu di Google Drive\n",
        "folder_path = '/content/drive/MyDrive/SLO/MINIPROJECTSLO'\n",
        "file_names = ['CPA1.xlsx', 'CPA2.xlsx', 'CPA3.xlsx' ]\n",
        "\n",
        "# Membaca file pertama tanpa menghapus baris pertama\n",
        "first_file_path = f\"{folder_path}/{file_names[0]}\"\n",
        "first_df = pd.read_excel(first_file_path)\n",
        "\n",
        "# Membaca file-file lainnya, menghapus baris pertama, dan memasukkan data ke dalam list\n",
        "dfs = [first_df]\n",
        "for file_name in file_names[1:]:\n",
        "    file_path = f\"{folder_path}/{file_name}\"\n",
        "    df = pd.read_excel(file_path)\n",
        "    df = df.iloc[1:]  # Menghapus baris pertama\n",
        "    dfs.append(df)\n",
        "\n",
        "# Menggabungkan semua DataFrame menjadi satu DataFrame\n",
        "combined_df = pd.concat(dfs, ignore_index=True)\n",
        "\n",
        "combined_csv_file_path = f\"{folder_path}/cpa_combined.csv\"\n",
        "combined_df.to_csv(combined_csv_file_path, index=False)\n",
        "\n",
        "print(\"File berhasil digabungkan dan disimpan:\", combined_csv_file_path)"
      ],
      "metadata": {
        "colab": {
          "base_uri": "https://localhost:8080/"
        },
        "id": "hoIj1fd7hmZn",
        "outputId": "36334c31-4016-4f00-83ed-cdaeba853d19"
      },
      "execution_count": 4,
      "outputs": [
        {
          "output_type": "stream",
          "name": "stdout",
          "text": [
            "File berhasil digabungkan dan disimpan: /content/drive/MyDrive/SLO/MINIPROJECTSLO/cpa_combined.csv\n"
          ]
        }
      ]
    },
    {
      "cell_type": "code",
      "source": [
        "# List file Excel di dalam folder tertentu di Google Drive\n",
        "folder_path = '/content/drive/MyDrive/SLO/MINIPROJECTSLO'\n",
        "file_names = ['CPC1.xlsx', 'CPC2.xlsx', 'CPC3.xlsx', 'CPC4.xlsx', 'CPC5.xlsx' ]\n",
        "\n",
        "# Membaca file pertama tanpa menghapus baris pertama\n",
        "first_file_path = f\"{folder_path}/{file_names[0]}\"\n",
        "first_df = pd.read_excel(first_file_path)\n",
        "\n",
        "# Membaca file-file lainnya, menghapus baris pertama, dan memasukkan data ke dalam list\n",
        "dfs = [first_df]\n",
        "for file_name in file_names[1:]:\n",
        "    file_path = f\"{folder_path}/{file_name}\"\n",
        "    df = pd.read_excel(file_path)\n",
        "    df = df.iloc[1:]  # Menghapus baris pertama\n",
        "    dfs.append(df)\n",
        "\n",
        "# Menggabungkan semua DataFrame menjadi satu DataFrame\n",
        "combined_df = pd.concat(dfs, ignore_index=True)\n",
        "\n",
        "combined_csv_file_path = f\"{folder_path}/cpc_combined.csv\"\n",
        "combined_df.to_csv(combined_csv_file_path, index=False)\n",
        "\n",
        "print(\"File berhasil digabungkan dan disimpan:\", combined_csv_file_path)"
      ],
      "metadata": {
        "colab": {
          "base_uri": "https://localhost:8080/"
        },
        "id": "Wji8NZCzmgcn",
        "outputId": "cb0d6395-3275-486f-9c27-363f95f9c7e5"
      },
      "execution_count": 5,
      "outputs": [
        {
          "output_type": "stream",
          "name": "stdout",
          "text": [
            "File berhasil digabungkan dan disimpan: /content/drive/MyDrive/SLO/MINIPROJECTSLO/cpc_combined.csv\n"
          ]
        }
      ]
    },
    {
      "cell_type": "markdown",
      "source": [
        "**CPA** -  75% training, 25% testing"
      ],
      "metadata": {
        "id": "Awu7uyJlmyTC"
      }
    },
    {
      "cell_type": "code",
      "source": [
        "import pandas as pd\n",
        "import numpy as np\n",
        "from sklearn.model_selection import train_test_split\n",
        "from sklearn.svm import SVC\n",
        "from sklearn.neighbors import KNeighborsClassifier\n",
        "from sklearn.metrics import accuracy_score, precision_score, recall_score, f1_score\n",
        "\n",
        "# Baca data dari file CSV\n",
        "df = pd.read_csv(\"/content/drive/MyDrive/SLO/MINIPROJECTSLO/cpa_combined.csv\")\n",
        "\n",
        "# Pisahkan fitur dan kelas\n",
        "X = df.iloc[:, :-1]  # Fitur\n",
        "y = df.iloc[:, -1]   # Kelas\n",
        "\n",
        "# Bagi data menjadi 75% training dan 25% testing\n",
        "X_train, X_test, y_train, y_test = train_test_split(X, y, test_size=0.25, random_state=42)\n",
        "\n",
        "# Inisialisasi model SVM\n",
        "svm_model = SVC()\n",
        "\n",
        "# Inisialisasi model K-NN\n",
        "knn_model = KNeighborsClassifier()\n",
        "\n",
        "# Latih model SVM dengan data pelatihan\n",
        "svm_model.fit(X_train, y_train)\n",
        "\n",
        "# Latih model K-NN dengan data pelatihan\n",
        "knn_model.fit(X_train, y_train)\n",
        "\n",
        "# Prediksi kelas untuk data pengujian\n",
        "svm_test_pred = svm_model.predict(X_test)\n",
        "knn_test_pred = knn_model.predict(X_test)\n",
        "\n",
        "# Evaluasi model dengan data pengujian\n",
        "svm_test_accuracy = accuracy_score(y_test, svm_test_pred)\n",
        "svm_test_precision = precision_score(y_test, svm_test_pred, average='weighted')\n",
        "svm_test_recall = recall_score(y_test, svm_test_pred, average='weighted')\n",
        "svm_test_f1 = f1_score(y_test, svm_test_pred, average='weighted')\n",
        "\n",
        "knn_test_accuracy = accuracy_score(y_test, knn_test_pred)\n",
        "knn_test_precision = precision_score(y_test, knn_test_pred, average='weighted')\n",
        "knn_test_recall = recall_score(y_test, knn_test_pred, average='weighted')\n",
        "knn_test_f1 = f1_score(y_test, knn_test_pred, average='weighted')\n",
        "\n",
        "print(\"SVM Test Metrics:\")\n",
        "print(\"Accuracy:\", svm_test_accuracy)\n",
        "print(\"Precision:\", svm_test_precision)\n",
        "print(\"Recall:\", svm_test_recall)\n",
        "print(\"F1-Score:\", svm_test_f1)\n",
        "\n",
        "print(\"\\nK-NN Test Metrics:\")\n",
        "print(\"Accuracy:\", knn_test_accuracy)\n",
        "print(\"Precision:\", knn_test_precision)\n",
        "print(\"Recall:\", knn_test_recall)\n",
        "print(\"F1-Score:\", knn_test_f1)\n"
      ],
      "metadata": {
        "colab": {
          "base_uri": "https://localhost:8080/"
        },
        "id": "lF8zxLGVk5Ml",
        "outputId": "a59bba6a-8777-4c0e-bfa0-e008108b85da"
      },
      "execution_count": 6,
      "outputs": [
        {
          "output_type": "stream",
          "name": "stdout",
          "text": [
            "SVM Test Metrics:\n",
            "Accuracy: 0.38285714285714284\n",
            "Precision: 0.1465795918367347\n",
            "Recall: 0.38285714285714284\n",
            "F1-Score: 0.21199527744982294\n",
            "\n",
            "K-NN Test Metrics:\n",
            "Accuracy: 0.68\n",
            "Precision: 0.646014898014898\n",
            "Recall: 0.68\n",
            "F1-Score: 0.6527266974730445\n"
          ]
        },
        {
          "output_type": "stream",
          "name": "stderr",
          "text": [
            "/usr/local/lib/python3.10/dist-packages/sklearn/metrics/_classification.py:1344: UndefinedMetricWarning: Precision is ill-defined and being set to 0.0 in labels with no predicted samples. Use `zero_division` parameter to control this behavior.\n",
            "  _warn_prf(average, modifier, msg_start, len(result))\n"
          ]
        }
      ]
    },
    {
      "cell_type": "code",
      "source": [
        "import pandas as pd\n",
        "import numpy as np\n",
        "from sklearn.model_selection import train_test_split\n",
        "from sklearn.svm import SVC\n",
        "from sklearn.neighbors import KNeighborsClassifier\n",
        "from sklearn.metrics import accuracy_score, precision_score, recall_score, f1_score\n",
        "\n",
        "# Baca data dari file CSV\n",
        "df = pd.read_csv(\"/content/drive/MyDrive/SLO/MINIPROJECTSLO/cpa_combined.csv\")\n",
        "\n",
        "# Pisahkan fitur dan kelas\n",
        "X = df.iloc[:, :-1]  # Fitur\n",
        "y = df.iloc[:, -1]   # Kelas\n",
        "\n",
        "# Bagi data menjadi 50% training, 25% validasi, dan 25% testing\n",
        "X_train, X_temp, y_train, y_temp = train_test_split(X, y, test_size=0.5, random_state=42)\n",
        "X_val, X_test, y_val, y_test = train_test_split(X_temp, y_temp, test_size=0.5, random_state=42)\n",
        "\n",
        "# Inisialisasi model SVM\n",
        "svm_model = SVC()\n",
        "\n",
        "# Inisialisasi model K-NN\n",
        "knn_model = KNeighborsClassifier()\n",
        "\n",
        "# Latih model SVM dengan data pelatihan\n",
        "svm_model.fit(X_train, y_train)\n",
        "\n",
        "# Latih model K-NN dengan data pelatihan\n",
        "knn_model.fit(X_train, y_train)\n",
        "\n",
        "# Prediksi kelas untuk data validasi\n",
        "svm_val_pred = svm_model.predict(X_val)\n",
        "knn_val_pred = knn_model.predict(X_val)\n",
        "\n",
        "# Evaluasi model dengan data validasi\n",
        "svm_val_accuracy = accuracy_score(y_val, svm_val_pred)\n",
        "svm_val_precision = precision_score(y_val, svm_val_pred, average='weighted')\n",
        "svm_val_recall = recall_score(y_val, svm_val_pred, average='weighted')\n",
        "svm_val_f1 = f1_score(y_val, svm_val_pred, average='weighted')\n",
        "\n",
        "knn_val_accuracy = accuracy_score(y_val, knn_val_pred)\n",
        "knn_val_precision = precision_score(y_val, knn_val_pred, average='weighted')\n",
        "knn_val_recall = recall_score(y_val, knn_val_pred, average='weighted')\n",
        "knn_val_f1 = f1_score(y_val, knn_val_pred, average='weighted')\n",
        "\n",
        "print(\"SVM Validation Metrics:\")\n",
        "print(\"Accuracy:\", svm_val_accuracy)\n",
        "print(\"Precision:\", svm_val_precision)\n",
        "print(\"Recall:\", svm_val_recall)\n",
        "print(\"F1-Score:\", svm_val_f1)\n",
        "\n",
        "print(\"\\nK-NN Validation Metrics:\")\n",
        "print(\"Accuracy:\", knn_val_accuracy)\n",
        "print(\"Precision:\", knn_val_precision)\n",
        "print(\"Recall:\", knn_val_recall)\n",
        "print(\"F1-Score:\", knn_val_f1)\n",
        "\n",
        "# Prediksi kelas untuk data pengujian\n",
        "svm_test_pred = svm_model.predict(X_test)\n",
        "knn_test_pred = knn_model.predict(X_test)\n",
        "\n",
        "# Evaluasi model dengan data pengujian\n",
        "svm_test_accuracy = accuracy_score(y_test, svm_test_pred)\n",
        "svm_test_precision = precision_score(y_test, svm_test_pred, average='weighted')\n",
        "svm_test_recall = recall_score(y_test, svm_test_pred, average='weighted')\n",
        "svm_test_f1 = f1_score(y_test, svm_test_pred, average='weighted')\n",
        "\n",
        "knn_test_accuracy = accuracy_score(y_test, knn_test_pred)\n",
        "knn_test_precision = precision_score(y_test, knn_test_pred, average='weighted')\n",
        "knn_test_recall = recall_score(y_test, knn_test_pred, average='weighted')\n",
        "knn_test_f1 = f1_score(y_test, knn_test_pred, average='weighted')\n",
        "\n",
        "print(\"\\nSVM Test Metrics:\")\n",
        "print(\"Accuracy:\", svm_test_accuracy)\n",
        "print(\"Precision:\", svm_test_precision)\n",
        "print(\"Recall:\", svm_test_recall)\n",
        "print(\"F1-Score:\", svm_test_f1)\n",
        "\n",
        "print(\"\\nK-NN Test Metrics:\")\n",
        "print(\"Accuracy:\", knn_test_accuracy)\n",
        "print(\"Precision:\", knn_test_precision)\n",
        "print(\"Recall:\", knn_test_recall)\n",
        "print(\"F1-Score:\", knn_test_f1)\n"
      ],
      "metadata": {
        "colab": {
          "base_uri": "https://localhost:8080/"
        },
        "id": "i7Ta7KYNw2eu",
        "outputId": "01de7916-3105-4ba6-a5ef-c6e26fa0179d"
      },
      "execution_count": 7,
      "outputs": [
        {
          "output_type": "stream",
          "name": "stdout",
          "text": [
            "SVM Validation Metrics:\n",
            "Accuracy: 0.4425287356321839\n",
            "Precision: 0.19583168186021932\n",
            "Recall: 0.4425287356321839\n",
            "F1-Score: 0.2715116545313001\n",
            "\n",
            "K-NN Validation Metrics:\n",
            "Accuracy: 0.6494252873563219\n",
            "Precision: 0.6133500957854406\n",
            "Recall: 0.6494252873563219\n",
            "F1-Score: 0.6269635619844908\n",
            "\n",
            "SVM Test Metrics:\n",
            "Accuracy: 0.3314285714285714\n",
            "Precision: 0.10984489795918366\n",
            "Recall: 0.3314285714285714\n",
            "F1-Score: 0.16500306560392397\n",
            "\n",
            "K-NN Test Metrics:\n",
            "Accuracy: 0.6171428571428571\n",
            "Precision: 0.6011577639751553\n",
            "Recall: 0.6171428571428571\n",
            "F1-Score: 0.581056389123392\n"
          ]
        },
        {
          "output_type": "stream",
          "name": "stderr",
          "text": [
            "/usr/local/lib/python3.10/dist-packages/sklearn/metrics/_classification.py:1344: UndefinedMetricWarning: Precision is ill-defined and being set to 0.0 in labels with no predicted samples. Use `zero_division` parameter to control this behavior.\n",
            "  _warn_prf(average, modifier, msg_start, len(result))\n",
            "/usr/local/lib/python3.10/dist-packages/sklearn/metrics/_classification.py:1344: UndefinedMetricWarning: Precision is ill-defined and being set to 0.0 in labels with no predicted samples. Use `zero_division` parameter to control this behavior.\n",
            "  _warn_prf(average, modifier, msg_start, len(result))\n"
          ]
        }
      ]
    },
    {
      "cell_type": "markdown",
      "source": [
        "**CPC**"
      ],
      "metadata": {
        "id": "VjqeG_04WF_0"
      }
    },
    {
      "cell_type": "code",
      "source": [
        "import pandas as pd\n",
        "import numpy as np\n",
        "from sklearn.model_selection import train_test_split\n",
        "from sklearn.svm import SVC\n",
        "from sklearn.neighbors import KNeighborsClassifier\n",
        "from sklearn.metrics import accuracy_score, precision_score, recall_score, f1_score\n",
        "\n",
        "# Baca data dari file CSV\n",
        "df = pd.read_csv(\"/content/drive/MyDrive/SLO/MINIPROJECTSLO/cpc_combined.csv\")\n",
        "\n",
        "# Pisahkan fitur dan kelas\n",
        "X = df.iloc[:, :-1]  # Fitur\n",
        "y = df.iloc[:, -1]   # Kelas\n",
        "\n",
        "# Bagi data menjadi 75% training dan 25% testing\n",
        "X_train, X_test, y_train, y_test = train_test_split(X, y, test_size=0.25, random_state=42)\n",
        "\n",
        "# Inisialisasi model SVM\n",
        "svm_model = SVC()\n",
        "\n",
        "# Inisialisasi model K-NN\n",
        "knn_model = KNeighborsClassifier()\n",
        "\n",
        "# Latih model SVM dengan data pelatihan\n",
        "svm_model.fit(X_train, y_train)\n",
        "\n",
        "# Latih model K-NN dengan data pelatihan\n",
        "knn_model.fit(X_train, y_train)\n",
        "\n",
        "# Prediksi kelas untuk data pengujian\n",
        "svm_test_pred = svm_model.predict(X_test)\n",
        "knn_test_pred = knn_model.predict(X_test)\n",
        "\n",
        "# Evaluasi model dengan data pengujian\n",
        "svm_test_accuracy = accuracy_score(y_test, svm_test_pred)\n",
        "svm_test_precision = precision_score(y_test, svm_test_pred, average='weighted')\n",
        "svm_test_recall = recall_score(y_test, svm_test_pred, average='weighted')\n",
        "svm_test_f1 = f1_score(y_test, svm_test_pred, average='weighted')\n",
        "\n",
        "knn_test_accuracy = accuracy_score(y_test, knn_test_pred)\n",
        "knn_test_precision = precision_score(y_test, knn_test_pred, average='weighted')\n",
        "knn_test_recall = recall_score(y_test, knn_test_pred, average='weighted')\n",
        "knn_test_f1 = f1_score(y_test, knn_test_pred, average='weighted')\n",
        "\n",
        "print(\"SVM Test Metrics:\")\n",
        "print(\"Accuracy:\", svm_test_accuracy)\n",
        "print(\"Precision:\", svm_test_precision)\n",
        "print(\"Recall:\", svm_test_recall)\n",
        "print(\"F1-Score:\", svm_test_f1)\n",
        "\n",
        "print(\"\\nK-NN Test Metrics:\")\n",
        "print(\"Accuracy:\", knn_test_accuracy)\n",
        "print(\"Precision:\", knn_test_precision)\n",
        "print(\"Recall:\", knn_test_recall)\n",
        "print(\"F1-Score:\", knn_test_f1)\n"
      ],
      "metadata": {
        "id": "XZyVYRIgw3CE",
        "colab": {
          "base_uri": "https://localhost:8080/"
        },
        "outputId": "f42f30fc-8663-4b11-acdd-a85de5226156"
      },
      "execution_count": 8,
      "outputs": [
        {
          "output_type": "stream",
          "name": "stdout",
          "text": [
            "SVM Test Metrics:\n",
            "Accuracy: 0.330188679245283\n",
            "Precision: 0.10902456390174439\n",
            "Recall: 0.330188679245283\n",
            "F1-Score: 0.16392345778134615\n",
            "\n",
            "K-NN Test Metrics:\n",
            "Accuracy: 0.625\n",
            "Precision: 0.618618485549667\n",
            "Recall: 0.625\n",
            "F1-Score: 0.618584902281209\n"
          ]
        },
        {
          "output_type": "stream",
          "name": "stderr",
          "text": [
            "/usr/local/lib/python3.10/dist-packages/sklearn/metrics/_classification.py:1344: UndefinedMetricWarning: Precision is ill-defined and being set to 0.0 in labels with no predicted samples. Use `zero_division` parameter to control this behavior.\n",
            "  _warn_prf(average, modifier, msg_start, len(result))\n"
          ]
        }
      ]
    },
    {
      "cell_type": "code",
      "source": [
        "import pandas as pd\n",
        "import numpy as np\n",
        "from sklearn.model_selection import train_test_split\n",
        "from sklearn.svm import SVC\n",
        "from sklearn.neighbors import KNeighborsClassifier\n",
        "from sklearn.metrics import accuracy_score, precision_score, recall_score, f1_score\n",
        "\n",
        "# Baca data dari file CSV\n",
        "df = pd.read_csv(\"/content/drive/MyDrive/SLO/MINIPROJECTSLO/cpc_combined.csv\")\n",
        "\n",
        "# Pisahkan fitur dan kelas\n",
        "X = df.iloc[:, :-1]  # Fitur\n",
        "y = df.iloc[:, -1]   # Kelas\n",
        "\n",
        "# Bagi data menjadi 50% training, 25% validasi, dan 25% testing\n",
        "X_train, X_temp, y_train, y_temp = train_test_split(X, y, test_size=0.5, random_state=42)\n",
        "X_val, X_test, y_val, y_test = train_test_split(X_temp, y_temp, test_size=0.5, random_state=42)\n",
        "\n",
        "# Inisialisasi model SVM\n",
        "svm_model = SVC()\n",
        "\n",
        "# Inisialisasi model K-NN\n",
        "knn_model = KNeighborsClassifier()\n",
        "\n",
        "# Latih model SVM dengan data pelatihan\n",
        "svm_model.fit(X_train, y_train)\n",
        "\n",
        "# Latih model K-NN dengan data pelatihan\n",
        "knn_model.fit(X_train, y_train)\n",
        "\n",
        "# Prediksi kelas untuk data validasi\n",
        "svm_val_pred = svm_model.predict(X_val)\n",
        "knn_val_pred = knn_model.predict(X_val)\n",
        "\n",
        "# Evaluasi model dengan data validasi\n",
        "svm_val_accuracy = accuracy_score(y_val, svm_val_pred)\n",
        "svm_val_precision = precision_score(y_val, svm_val_pred, average='weighted')\n",
        "svm_val_recall = recall_score(y_val, svm_val_pred, average='weighted')\n",
        "svm_val_f1 = f1_score(y_val, svm_val_pred, average='weighted')\n",
        "\n",
        "knn_val_accuracy = accuracy_score(y_val, knn_val_pred)\n",
        "knn_val_precision = precision_score(y_val, knn_val_pred, average='weighted')\n",
        "knn_val_recall = recall_score(y_val, knn_val_pred, average='weighted')\n",
        "knn_val_f1 = f1_score(y_val, knn_val_pred, average='weighted')\n",
        "\n",
        "print(\"SVM Validation Metrics:\")\n",
        "print(\"Accuracy:\", svm_val_accuracy)\n",
        "print(\"Precision:\", svm_val_precision)\n",
        "print(\"Recall:\", svm_val_recall)\n",
        "print(\"F1-Score:\", svm_val_f1)\n",
        "\n",
        "print(\"\\nK-NN Validation Metrics:\")\n",
        "print(\"Accuracy:\", knn_val_accuracy)\n",
        "print(\"Precision:\", knn_val_precision)\n",
        "print(\"Recall:\", knn_val_recall)\n",
        "print(\"F1-Score:\", knn_val_f1)\n",
        "\n",
        "# Prediksi kelas untuk data pengujian\n",
        "svm_test_pred = svm_model.predict(X_test)\n",
        "knn_test_pred = knn_model.predict(X_test)\n",
        "\n",
        "# Evaluasi model dengan data pengujian\n",
        "svm_test_accuracy = accuracy_score(y_test, svm_test_pred)\n",
        "svm_test_precision = precision_score(y_test, svm_test_pred, average='weighted')\n",
        "svm_test_recall = recall_score(y_test, svm_test_pred, average='weighted')\n",
        "svm_test_f1 = f1_score(y_test, svm_test_pred, average='weighted')\n",
        "\n",
        "knn_test_accuracy = accuracy_score(y_test, knn_test_pred)\n",
        "knn_test_precision = precision_score(y_test, knn_test_pred, average='weighted')\n",
        "knn_test_recall = recall_score(y_test, knn_test_pred, average='weighted')\n",
        "knn_test_f1 = f1_score(y_test, knn_test_pred, average='weighted')\n",
        "\n",
        "print(\"\\nSVM Test Metrics:\")\n",
        "print(\"Accuracy:\", svm_test_accuracy)\n",
        "print(\"Precision:\", svm_test_precision)\n",
        "print(\"Recall:\", svm_test_recall)\n",
        "print(\"F1-Score:\", svm_test_f1)\n",
        "\n",
        "print(\"\\nK-NN Test Metrics:\")\n",
        "print(\"Accuracy:\", knn_test_accuracy)\n",
        "print(\"Precision:\", knn_test_precision)\n",
        "print(\"Recall:\", knn_test_recall)\n",
        "print(\"F1-Score:\", knn_test_f1)\n"
      ],
      "metadata": {
        "colab": {
          "base_uri": "https://localhost:8080/"
        },
        "id": "53kd1ArNWObY",
        "outputId": "00155e4f-03a3-48a8-968d-d027b2532ac5"
      },
      "execution_count": 9,
      "outputs": [
        {
          "output_type": "stream",
          "name": "stderr",
          "text": [
            "/usr/local/lib/python3.10/dist-packages/sklearn/metrics/_classification.py:1344: UndefinedMetricWarning: Precision is ill-defined and being set to 0.0 in labels with no predicted samples. Use `zero_division` parameter to control this behavior.\n",
            "  _warn_prf(average, modifier, msg_start, len(result))\n"
          ]
        },
        {
          "output_type": "stream",
          "name": "stdout",
          "text": [
            "SVM Validation Metrics:\n",
            "Accuracy: 0.3231132075471698\n",
            "Precision: 0.10440214489142043\n",
            "Recall: 0.3231132075471698\n",
            "F1-Score: 0.15781286785726295\n",
            "\n",
            "K-NN Validation Metrics:\n",
            "Accuracy: 0.5966981132075472\n",
            "Precision: 0.6233833360287313\n",
            "Recall: 0.5966981132075472\n",
            "F1-Score: 0.602617163410283\n",
            "\n",
            "SVM Test Metrics:\n",
            "Accuracy: 0.30424528301886794\n",
            "Precision: 0.09256519223923104\n",
            "Recall: 0.30424528301886794\n",
            "F1-Score: 0.14194445392200347\n",
            "\n",
            "K-NN Test Metrics:\n",
            "Accuracy: 0.5613207547169812\n",
            "Precision: 0.5797733832979186\n",
            "Recall: 0.5613207547169812\n",
            "F1-Score: 0.5671941204102392\n"
          ]
        },
        {
          "output_type": "stream",
          "name": "stderr",
          "text": [
            "/usr/local/lib/python3.10/dist-packages/sklearn/metrics/_classification.py:1344: UndefinedMetricWarning: Precision is ill-defined and being set to 0.0 in labels with no predicted samples. Use `zero_division` parameter to control this behavior.\n",
            "  _warn_prf(average, modifier, msg_start, len(result))\n"
          ]
        }
      ]
    },
    {
      "cell_type": "code",
      "source": [],
      "metadata": {
        "id": "nH7q127rWSmT"
      },
      "execution_count": null,
      "outputs": []
    }
  ]
}